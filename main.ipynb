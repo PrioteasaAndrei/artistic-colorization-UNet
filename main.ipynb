{
 "cells": [
  {
   "cell_type": "code",
   "execution_count": null,
   "metadata": {},
   "outputs": [],
   "source": [
    "from dataset import *"
   ]
  },
  {
   "cell_type": "code",
   "execution_count": null,
   "metadata": {},
   "outputs": [],
   "source": [
    "print(torch.cuda.is_available())\n",
    "print(torch.cuda.get_device_name(0))  # 0 corresponds to the first GPU"
   ]
  },
  {
   "cell_type": "code",
   "execution_count": null,
   "metadata": {},
   "outputs": [],
   "source": [
    "train_dataset, test_dataset = prepare_dataset(10,10)"
   ]
  },
  {
   "cell_type": "code",
   "execution_count": null,
   "metadata": {},
   "outputs": [],
   "source": [
    "list(train_dataset)"
   ]
  },
  {
   "cell_type": "code",
   "execution_count": null,
   "metadata": {},
   "outputs": [],
   "source": [
    "'''\n",
    "Encoder is a pretrained VGG up to relu4_1 as in the original paper (see 6.1 paper)\n",
    "'''\n",
    "class VGG_Encoder(torch.nn.Module):\n",
    "    def __init__(self):\n",
    "        super(VGG_Encoder, self).__init__()\n",
    "        pretrained = torchvision.models.vgg19(pretrained=True)\n",
    "        \n",
    "        f = torch.nn.Sequential(*list(pretrained.features.children())[:21]).eval()\n",
    "        \n",
    "        # Splitting the network so we can get output of different layers\n",
    "        # TODO: ADD REFLECTION PADDING LAYERS\n",
    "        self.relu1_1 = torch.nn.Sequential(*f[:2],)\n",
    "        self.relu2_1 = torch.nn.Sequential(*f[2:5], *f[5:7])\n",
    "        self.relu3_1 = torch.nn.Sequential(*f[7:10],*f[10:12])\n",
    "        self.relu4_1 = torch.nn.Sequential(*f[12:14],\n",
    "                                          *f[14:16],\n",
    "                                          *f[16:19],\n",
    "                                           *f[19:21])\n",
    "\n",
    "    def forward(self, x):\n",
    "        out_1 = self.relu1_1(x)\n",
    "        out_2 = self.relu2_1(out_1)\n",
    "        out_3 = self.relu3_1(out_2)\n",
    "        result = self.relu4_1(out_3)\n",
    "        return out_1, out_2, out_3, result\n",
    "\n",
    "def mean_and_std(x):\n",
    "    x = x.view(x.shape[0], x.shape[1], -1)\n",
    "    mean = x.mean(dim=2) + 0.00005\n",
    "    std = x.var(dim=2).sqrt()\n",
    "    return mean.view(mean.shape[0], mean.shape[1], 1, 1), std.view(std.shape[0], std.shape[1], 1, 1)"
   ]
  },
  {
   "cell_type": "code",
   "execution_count": null,
   "metadata": {},
   "outputs": [],
   "source": [
    "''' decoder is just the second part of an Unet'''\n",
    "class Decoder(torch.nn.Module):\n",
    "    def __init__(self):\n",
    "        super(Decoder, self).__init__()\n",
    "        self.decode = torch.nn.Sequential(\n",
    "            torch.nn.ReflectionPad2d((1, 1, 1, 1)),\n",
    "            torch.nn.Conv2d(512, 256, (3, 3)),\n",
    "            torch.nn.ReLU(),\n",
    "            torch.nn.Upsample(scale_factor=2, mode='nearest'),\n",
    "            torch.nn.ReflectionPad2d((1, 1, 1, 1)),\n",
    "            torch.nn.Conv2d(256, 256, (3, 3)),\n",
    "            torch.nn.ReLU(),\n",
    "            torch.nn.ReflectionPad2d((1, 1, 1, 1)),\n",
    "            torch.nn.Conv2d(256, 256, (3, 3)),\n",
    "            torch.nn.ReLU(),\n",
    "            torch.nn.ReflectionPad2d((1, 1, 1, 1)),\n",
    "            torch.nn.Conv2d(256, 256, (3, 3)),\n",
    "            torch.nn.ReLU(),\n",
    "            torch.nn.ReflectionPad2d((1, 1, 1, 1)),\n",
    "            torch.nn.Conv2d(256, 128, (3, 3)),\n",
    "            torch.nn.ReLU(),\n",
    "            torch.nn.Upsample(scale_factor=2, mode='nearest'),\n",
    "            torch.nn.ReflectionPad2d((1, 1, 1, 1)),\n",
    "            torch.nn.Conv2d(128, 128, (3, 3)),\n",
    "            torch.nn.ReLU(),\n",
    "            torch.nn.ReflectionPad2d((1, 1, 1, 1)),\n",
    "            torch.nn.Conv2d(128, 64, (3, 3)),\n",
    "            torch.nn.ReLU(),\n",
    "            torch.nn.Upsample(scale_factor=2, mode='nearest'),\n",
    "            torch.nn.ReflectionPad2d((1, 1, 1, 1)),\n",
    "            torch.nn.Conv2d(64, 64, (3, 3)),\n",
    "            torch.nn.ReLU(),\n",
    "            torch.nn.ReflectionPad2d((1, 1, 1, 1)),\n",
    "            torch.nn.Conv2d(64, 3, (3, 3)),\n",
    "        )\n",
    "    def forward(self, x):\n",
    "        result = self.decode(x)\n",
    "        return result\n",
    "\"\"\"\n",
    "decode = Decoder()\n",
    "img = decode(t)\n",
    "concat_img((img[:12]).detach().cpu())\n",
    "\"\"\""
   ]
  },
  {
   "cell_type": "code",
   "execution_count": null,
   "metadata": {},
   "outputs": [],
   "source": [
    "## try adain before skip connections or without to see if it makes a difference\n",
    "encoder = VGG_Encoder()\n",
    "decoder = Decoder()\n",
    "## generate random tensor of at least 4 dimensions\n",
    "random_tensor = torch.rand((12, 16, 26, 26))\n",
    "style_image  = torch.rand((12, 16, 26, 26))\n",
    "adain = AdaIN()\n",
    "random_tensor = adain(random_tensor, style_image)\n",
    "print(random_tensor.shape)"
   ]
  },
  {
   "cell_type": "code",
   "execution_count": null,
   "metadata": {},
   "outputs": [],
   "source": [
    "print(encoder.relu1_1)"
   ]
  },
  {
   "cell_type": "code",
   "execution_count": null,
   "metadata": {},
   "outputs": [],
   "source": [
    "x = encoder(torch.rand(1, 3, 256, 256))\n",
    "print(x[3].shape)\n",
    "\n",
    "through_adain = adain(x[3], x[3])\n",
    "\n",
    "output = decoder(through_adain)\n",
    "print(output.shape)"
   ]
  },
  {
   "cell_type": "code",
   "execution_count": null,
   "metadata": {},
   "outputs": [],
   "source": [
    "## AdaIN implementation\n",
    "## TODO: see if the output size is the same as input size\n",
    "class AdaIN(torch.nn.Module):\n",
    "    def __init__(self):\n",
    "        super(AdaIN, self).__init__()\n",
    "        self.IN = torch.nn.InstanceNorm2d(512)\n",
    "    \n",
    "    def forward(self, x, y):\n",
    "        size = x.size()\n",
    "        \n",
    "        x = self.IN(x)\n",
    "        \n",
    "        #mean_x, std_x = mean_and_std(x)\n",
    "        mean_y, std_y = mean_and_std(y)\n",
    "        #x = (x - mean_x.expand(size)) / std_x.expand(size)\n",
    "        x = x * std_y.expand(size) + mean_y.expand(size)\n",
    "        return x\n",
    "\"\"\"\"\n",
    "print(style.shape)\n",
    "mean, std = mean_and_std(style)\n",
    "print(mean.shape)\n",
    "print(std.shape)\n",
    "Ada = AdaIN()\n",
    "t = Ada(vgg(content)[3], vgg(style)[3])\n",
    "\"\"\"\n"
   ]
  },
  {
   "cell_type": "code",
   "execution_count": null,
   "metadata": {},
   "outputs": [],
   "source": []
  },
  {
   "cell_type": "code",
   "execution_count": null,
   "metadata": {},
   "outputs": [],
   "source": [
    "a = torch.nn.Conv2d(5, 20, kernel_size=1)\n",
    "len(a.weight)"
   ]
  }
 ],
 "metadata": {
  "kernelspec": {
   "display_name": "base",
   "language": "python",
   "name": "python3"
  },
  "language_info": {
   "codemirror_mode": {
    "name": "ipython",
    "version": 3
   },
   "file_extension": ".py",
   "mimetype": "text/x-python",
   "name": "python",
   "nbconvert_exporter": "python",
   "pygments_lexer": "ipython3",
   "version": "3.12.2"
  }
 },
 "nbformat": 4,
 "nbformat_minor": 2
}
