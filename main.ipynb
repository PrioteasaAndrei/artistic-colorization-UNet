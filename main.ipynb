{
 "cells": [
  {
   "cell_type": "code",
   "execution_count": 1,
   "metadata": {},
   "outputs": [
    {
     "name": "stdout",
     "output_type": "stream",
     "text": [
      "True\n",
      "NVIDIA GeForce RTX 3050 Ti Laptop GPU\n"
     ]
    }
   ],
   "source": [
    "import torch\n",
    "print(torch.cuda.is_available())\n",
    "print(torch.cuda.get_device_name(0))  # 0 corresponds to the first GPU"
   ]
  },
  {
   "cell_type": "code",
   "execution_count": 4,
   "metadata": {},
   "outputs": [
    {
     "data": {
      "text/plain": [
       "<torch._C.Generator at 0x7e8d281d7810>"
      ]
     },
     "execution_count": 4,
     "metadata": {},
     "output_type": "execute_result"
    }
   ],
   "source": [
    "%matplotlib inline\n",
    "import torch\n",
    "import torchvision\n",
    "import numpy as np\n",
    "import matplotlib.pyplot as plt\n",
    "import os\n",
    "from zipfile import ZipFile\n",
    "from PIL import Image\n",
    "\n",
    "torch.manual_seed(1)"
   ]
  },
  {
   "cell_type": "code",
   "execution_count": 5,
   "metadata": {},
   "outputs": [
    {
     "data": {
      "text/plain": [
       "'\"\\nprint(style.shape)\\nmean, std = mean_and_std(style)\\nprint(mean.shape)\\nprint(std.shape)\\nAda = AdaIN()\\nt = Ada(vgg(content)[3], vgg(style)[3])\\n'"
      ]
     },
     "execution_count": 5,
     "metadata": {},
     "output_type": "execute_result"
    }
   ],
   "source": [
    "## AdaIN implementation\n",
    "class AdaIN(torch.nn.Module):\n",
    "    def __init__(self):\n",
    "        super(AdaIN, self).__init__()\n",
    "        self.IN = torch.nn.InstanceNorm2d(512)\n",
    "    \n",
    "    def forward(self, x, y):\n",
    "        size = x.size()\n",
    "        \n",
    "        x = self.IN(x)\n",
    "        \n",
    "        #mean_x, std_x = mean_and_std(x)\n",
    "        mean_y, std_y = mean_and_std(y)\n",
    "        #x = (x - mean_x.expand(size)) / std_x.expand(size)\n",
    "        x = x * std_y.expand(size) + mean_y.expand(size)\n",
    "        return x\n",
    "\"\"\"\"\n",
    "print(style.shape)\n",
    "mean, std = mean_and_std(style)\n",
    "print(mean.shape)\n",
    "print(std.shape)\n",
    "Ada = AdaIN()\n",
    "t = Ada(vgg(content)[3], vgg(style)[3])\n",
    "\"\"\""
   ]
  }
 ],
 "metadata": {
  "kernelspec": {
   "display_name": "base",
   "language": "python",
   "name": "python3"
  },
  "language_info": {
   "codemirror_mode": {
    "name": "ipython",
    "version": 3
   },
   "file_extension": ".py",
   "mimetype": "text/x-python",
   "name": "python",
   "nbconvert_exporter": "python",
   "pygments_lexer": "ipython3",
   "version": "3.12.2"
  }
 },
 "nbformat": 4,
 "nbformat_minor": 2
}
